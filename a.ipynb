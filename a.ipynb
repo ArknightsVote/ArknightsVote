{
 "cells": [
  {
   "cell_type": "code",
   "execution_count": null,
   "metadata": {},
   "outputs": [],
   "source": [
    "#2023.8.30更新了数据存储结构，对之前的数据做处理"
   ]
  },
  {
   "cell_type": "code",
   "execution_count": 1,
   "metadata": {},
   "outputs": [],
   "source": [
    "import pickle"
   ]
  },
  {
   "cell_type": "code",
   "execution_count": null,
   "metadata": {},
   "outputs": [],
   "source": [
    "with open('list/win_score.pickle', 'wb') as f:\n",
    "    pickle.dump([0] * 80, f)\n",
    "with open('list/lose_score.pickle', 'wb') as f:\n",
    "    pickle.dump([0] * 80, f)"
   ]
  },
  {
   "cell_type": "code",
   "execution_count": null,
   "metadata": {},
   "outputs": [],
   "source": [
    "with open('list/win_record.txt', 'r') as f:\n",
    "    lst_win_record = [f.readline()[:-1] for _ in range(108959)]"
   ]
  },
  {
   "cell_type": "code",
   "execution_count": null,
   "metadata": {},
   "outputs": [],
   "source": [
    "with open('list/lose_record.txt', 'r') as f:\n",
    "    lst_lose_record = [f.readline()[:-1] for _ in range(108959)]"
   ]
  },
  {
   "cell_type": "code",
   "execution_count": 2,
   "metadata": {},
   "outputs": [
    {
     "data": {
      "text/plain": [
       "[6391,\n",
       " 1217,\n",
       " 4453,\n",
       " 7979,\n",
       " 3002,\n",
       " 2960,\n",
       " 8911,\n",
       " 5254,\n",
       " 9174,\n",
       " 7318,\n",
       " 4030,\n",
       " 3307,\n",
       " 3913,\n",
       " 1761,\n",
       " 3950,\n",
       " 6851,\n",
       " 5442,\n",
       " 5256,\n",
       " 8164,\n",
       " 4624,\n",
       " 9867,\n",
       " 3919,\n",
       " 7569,\n",
       " 1994,\n",
       " 5394,\n",
       " 9350,\n",
       " 5436,\n",
       " 2471,\n",
       " 11655,\n",
       " 5592,\n",
       " 7351,\n",
       " 1935,\n",
       " 6781,\n",
       " 1952,\n",
       " 2798,\n",
       " 2383,\n",
       " 2039,\n",
       " 2793,\n",
       " 5125,\n",
       " 8236,\n",
       " 9429,\n",
       " 1595,\n",
       " 1713,\n",
       " 3841,\n",
       " 11403,\n",
       " 8935,\n",
       " 1101,\n",
       " 2195,\n",
       " 9741,\n",
       " 6640,\n",
       " 3358,\n",
       " 9876,\n",
       " 7060,\n",
       " 3515,\n",
       " 7056,\n",
       " 3379,\n",
       " 3956,\n",
       " 8064,\n",
       " 3470,\n",
       " 6449,\n",
       " 9351,\n",
       " 8646,\n",
       " 11662,\n",
       " 4440,\n",
       " 492,\n",
       " 6818,\n",
       " 11160,\n",
       " 10781,\n",
       " 6532,\n",
       " 6941,\n",
       " 7808,\n",
       " 10742,\n",
       " 10739,\n",
       " 1092,\n",
       " 3085,\n",
       " 5260,\n",
       " 6608,\n",
       " 9859,\n",
       " 2693,\n",
       " 8487]"
      ]
     },
     "execution_count": 2,
     "metadata": {},
     "output_type": "execute_result"
    }
   ],
   "source": [
    "with open('list/win_score.pickle', 'rb') as f:\n",
    "    lst_win_score = pickle.load(f)\n",
    "with open('list/lose_score.pickle', 'rb') as f:\n",
    "    lst_lose_score = pickle.load(f)\n",
    "lst_win_score"
   ]
  },
  {
   "cell_type": "code",
   "execution_count": 3,
   "metadata": {},
   "outputs": [
    {
     "data": {
      "text/plain": [
       "[5353,\n",
       " 10392,\n",
       " 6848,\n",
       " 3851,\n",
       " 8370,\n",
       " 8455,\n",
       " 2937,\n",
       " 6265,\n",
       " 2794,\n",
       " 4331,\n",
       " 7487,\n",
       " 8021,\n",
       " 7437,\n",
       " 9719,\n",
       " 7626,\n",
       " 4885,\n",
       " 6118,\n",
       " 6265,\n",
       " 3689,\n",
       " 6711,\n",
       " 1939,\n",
       " 7257,\n",
       " 3977,\n",
       " 9441,\n",
       " 6608,\n",
       " 2521,\n",
       " 6732,\n",
       " 8572,\n",
       " 763,\n",
       " 5841,\n",
       " 4341,\n",
       " 9455,\n",
       " 4949,\n",
       " 9310,\n",
       " 8457,\n",
       " 9115,\n",
       " 9631,\n",
       " 8711,\n",
       " 6164,\n",
       " 3420,\n",
       " 2513,\n",
       " 9657,\n",
       " 9497,\n",
       " 7763,\n",
       " 916,\n",
       " 2909,\n",
       " 10440,\n",
       " 9052,\n",
       " 2056,\n",
       " 4942,\n",
       " 8046,\n",
       " 2208,\n",
       " 4876,\n",
       " 7930,\n",
       " 4680,\n",
       " 8105,\n",
       " 7591,\n",
       " 3840,\n",
       " 8049,\n",
       " 5154,\n",
       " 2801,\n",
       " 3375,\n",
       " 840,\n",
       " 6962,\n",
       " 11305,\n",
       " 4691,\n",
       " 1257,\n",
       " 1339,\n",
       " 5133,\n",
       " 4694,\n",
       " 3971,\n",
       " 1461,\n",
       " 1441,\n",
       " 10437,\n",
       " 8425,\n",
       " 6519,\n",
       " 5176,\n",
       " 2710,\n",
       " 8876,\n",
       " 3077]"
      ]
     },
     "execution_count": 3,
     "metadata": {},
     "output_type": "execute_result"
    }
   ],
   "source": [
    "lst_lose_score"
   ]
  },
  {
   "cell_type": "code",
   "execution_count": 8,
   "metadata": {},
   "outputs": [
    {
     "data": {
      "text/plain": [
       "['54.4 %',\n",
       " '10.5 %',\n",
       " '39.4 %',\n",
       " '67.4 %',\n",
       " '26.4 %',\n",
       " '25.9 %',\n",
       " '75.2 %',\n",
       " '45.6 %',\n",
       " '76.7 %',\n",
       " '62.8 %',\n",
       " '35.0 %',\n",
       " '29.2 %',\n",
       " '34.5 %',\n",
       " '15.3 %',\n",
       " '34.1 %',\n",
       " '58.4 %',\n",
       " '47.1 %',\n",
       " '45.6 %',\n",
       " '68.9 %',\n",
       " '40.8 %',\n",
       " '83.6 %',\n",
       " '35.1 %',\n",
       " '65.6 %',\n",
       " '17.4 %',\n",
       " '44.9 %',\n",
       " '78.8 %',\n",
       " '44.7 %',\n",
       " '22.4 %',\n",
       " '93.9 %',\n",
       " '48.9 %',\n",
       " '62.9 %',\n",
       " '17.0 %',\n",
       " '57.8 %',\n",
       " '17.3 %',\n",
       " '24.9 %',\n",
       " '20.7 %',\n",
       " '17.5 %',\n",
       " '24.3 %',\n",
       " '45.4 %',\n",
       " '70.7 %',\n",
       " '79.0 %',\n",
       " '14.2 %',\n",
       " '15.3 %',\n",
       " '33.1 %',\n",
       " '92.6 %',\n",
       " '75.4 %',\n",
       " '9.5 %',\n",
       " '19.5 %',\n",
       " '82.6 %',\n",
       " '57.3 %',\n",
       " '29.4 %',\n",
       " '81.7 %',\n",
       " '59.1 %',\n",
       " '30.7 %',\n",
       " '60.1 %',\n",
       " '29.4 %',\n",
       " '34.3 %',\n",
       " '67.7 %',\n",
       " '30.1 %',\n",
       " '55.6 %',\n",
       " '77.0 %',\n",
       " '71.9 %',\n",
       " '93.3 %',\n",
       " '38.9 %',\n",
       " '4.2 %',\n",
       " '59.2 %',\n",
       " '89.9 %',\n",
       " '89.0 %',\n",
       " '56.0 %',\n",
       " '59.7 %',\n",
       " '66.3 %',\n",
       " '88.0 %',\n",
       " '88.2 %',\n",
       " '9.5 %',\n",
       " '26.8 %',\n",
       " '44.7 %',\n",
       " '56.1 %',\n",
       " '78.4 %',\n",
       " '23.3 %',\n",
       " '73.4 %']"
      ]
     },
     "execution_count": 8,
     "metadata": {},
     "output_type": "execute_result"
    }
   ],
   "source": [
    "lst_percent_score = ['%.1f'%(100 * lst_win_score[_] / (lst_win_score[_] + lst_lose_score[_])) + ' %' for _ in range(80)]\n",
    "lst_percent_score"
   ]
  },
  {
   "cell_type": "code",
   "execution_count": null,
   "metadata": {},
   "outputs": [],
   "source": [
    "dict_name = {'能天使': 0, '推进之王': 1, '伊芙利特': 2, '艾雅法拉': 3, '安洁莉娜': 4, '闪灵': 5, '夜莺': 6, '星熊': 7, '塞雷娅': 8, '银灰': 9, '斯卡蒂': 10, '陈': 11, '黑': 12, '赫拉格': 13, '麦哲伦': 14, '莫斯提马': 15, '煌': 16, '阿': 17, '年': 18, '刻俄柏': 19, '风笛': 20, '傀影': 21, '温蒂': 22, 'W': 23, '早露': 24, '铃兰': 25, '棘刺': 26, '森蚺': 27, '史尔特尔': 28, '瑕光': 29, '泥岩': 30, '迷迭香': 31, '山': 32, '空弦': 33, '嵯峨': 34, '夕': 35, '灰烬': 36, '异客': 37, '歌蕾蒂娅': 38, '凯尔希': 39, '浊心斯卡蒂': 40, '卡涅利安': 41, '帕拉斯': 42, '水月': 43, '假日威龙陈': 44, '琴柳': 45, '远牙': 46, '焰尾': 47, '耀骑士临光': 48, '灵知': 49, '老鲤': 50, '令': 51, '澄闪': 52, '菲亚梅塔': 53, '号角': 54, '流明': 55, '艾丽妮': 56, '归溟幽灵鲨': 57, '黑键': 58, '多萝西': 59, '鸿雪': 60, '百炼嘉维尔': 61, '玛恩纳': 62, '白铁': 63, '伺夜': 64, '斥罪': 65, '缄默德克萨斯': 66, '焰影苇草': 67, '林': 68, '重岳': 69, '仇白': 70, '麒麟R夜刀': 71, '伊内丝': 72, '淬羽赫默': 73, '霍尔海雅': 74, '缪尔赛思': 75, '圣约送葬人': 76, '提丰': 77, '琳琅诗怀雅': 78, '纯烬艾雅法拉': 79}"
   ]
  },
  {
   "cell_type": "code",
   "execution_count": null,
   "metadata": {},
   "outputs": [],
   "source": [
    "for i in range(len(lst_win_record)):\n",
    "    _ = lst_win_record[i]\n",
    "    __ = lst_lose_record[i]\n",
    "    if _ in dict_name and __ in dict_name:\n",
    "        lst_win_score[dict_name[_]] += 1\n",
    "        lst_lose_score[dict_name[__]] += 1"
   ]
  },
  {
   "cell_type": "code",
   "execution_count": null,
   "metadata": {},
   "outputs": [],
   "source": [
    "lst_win_score"
   ]
  },
  {
   "cell_type": "code",
   "execution_count": null,
   "metadata": {},
   "outputs": [],
   "source": [
    "lst_lose_score"
   ]
  },
  {
   "cell_type": "code",
   "execution_count": 10,
   "metadata": {},
   "outputs": [],
   "source": [
    "a = [1, 2, 3]\n",
    "b = [4, 5, 6]\n",
    "c = [7, 8, 9]\n",
    "xxxx = zip(zip(a, b), c)"
   ]
  },
  {
   "cell_type": "code",
   "execution_count": 11,
   "metadata": {},
   "outputs": [],
   "source": [
    "xxa, xxb = zip(*xxxx)"
   ]
  },
  {
   "cell_type": "code",
   "execution_count": 12,
   "metadata": {},
   "outputs": [
    {
     "data": {
      "text/plain": [
       "((1, 4), (2, 5), (3, 6))"
      ]
     },
     "execution_count": 12,
     "metadata": {},
     "output_type": "execute_result"
    }
   ],
   "source": [
    "xxa"
   ]
  },
  {
   "cell_type": "code",
   "execution_count": 13,
   "metadata": {},
   "outputs": [
    {
     "data": {
      "text/plain": [
       "(7, 8, 9)"
      ]
     },
     "execution_count": 13,
     "metadata": {},
     "output_type": "execute_result"
    }
   ],
   "source": [
    "xxb"
   ]
  },
  {
   "cell_type": "code",
   "execution_count": null,
   "metadata": {},
   "outputs": [],
   "source": []
  }
 ],
 "metadata": {
  "kernelspec": {
   "display_name": "base",
   "language": "python",
   "name": "python3"
  },
  "language_info": {
   "codemirror_mode": {
    "name": "ipython",
    "version": 3
   },
   "file_extension": ".py",
   "mimetype": "text/x-python",
   "name": "python",
   "nbconvert_exporter": "python",
   "pygments_lexer": "ipython3",
   "version": "3.10.9"
  },
  "orig_nbformat": 4
 },
 "nbformat": 4,
 "nbformat_minor": 2
}
