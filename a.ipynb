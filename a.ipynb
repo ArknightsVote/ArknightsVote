{
 "cells": [
  {
   "cell_type": "code",
   "execution_count": 1,
   "metadata": {},
   "outputs": [],
   "source": [
    "import pickle"
   ]
  },
  {
   "cell_type": "code",
   "execution_count": 2,
   "metadata": {},
   "outputs": [],
   "source": [
    "with open('list/win_score.pickle', 'wb') as f:\n",
    "    pickle.dump([1] * 86, f)\n",
    "with open('list/lose_score.pickle', 'wb') as f:\n",
    "    pickle.dump([1] * 86, f)"
   ]
  },
  {
   "cell_type": "code",
   "execution_count": 3,
   "metadata": {},
   "outputs": [],
   "source": [
    "ip_dict = dict()\n",
    "ip_ban = set()\n",
    "\n",
    "with open('ip/ip_dict.pickle', 'wb') as f:\n",
    "    pickle.dump(ip_dict, f)\n",
    "with open('ip/ip_ban.pickle', 'wb') as f:\n",
    "    pickle.dump(ip_ban, f)"
   ]
  },
  {
   "cell_type": "code",
   "execution_count": null,
   "metadata": {},
   "outputs": [],
   "source": [
    "with open('list/win_score.pickle', 'rb') as f:\n",
    "    lst_win_score = pickle.load(f)\n",
    "with open('list/lose_score.pickle', 'rb') as f:\n",
    "    lst_lose_score = pickle.load(f)\n",
    "lst_win_score"
   ]
  }
 ],
 "metadata": {
  "kernelspec": {
   "display_name": "base",
   "language": "python",
   "name": "python3"
  },
  "language_info": {
   "codemirror_mode": {
    "name": "ipython",
    "version": 3
   },
   "file_extension": ".py",
   "mimetype": "text/x-python",
   "name": "python",
   "nbconvert_exporter": "python",
   "pygments_lexer": "ipython3",
   "version": "3.11.4"
  },
  "orig_nbformat": 4
 },
 "nbformat": 4,
 "nbformat_minor": 2
}
