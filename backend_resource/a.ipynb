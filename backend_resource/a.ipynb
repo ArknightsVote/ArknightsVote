{
 "cells": [
  {
   "cell_type": "code",
   "execution_count": 9,
   "metadata": {},
   "outputs": [],
   "source": [
    "import pandas as pd\n",
    "import time\n",
    "from selenium import webdriver\n",
    "from selenium.webdriver.common.by import By\n",
    "import random"
   ]
  },
  {
   "cell_type": "code",
   "execution_count": 4,
   "metadata": {},
   "outputs": [],
   "source": [
    "# 从PRTS.wiki爬取数据"
   ]
  },
  {
   "cell_type": "code",
   "execution_count": 5,
   "metadata": {},
   "outputs": [],
   "source": [
    "opts = webdriver.EdgeOptions()\n",
    "opts.add_argument('--headless')\n",
    "opts.add_argument('--disable-gpu')\n",
    "driver = webdriver.Edge(options=opts)"
   ]
  },
  {
   "cell_type": "code",
   "execution_count": 6,
   "metadata": {},
   "outputs": [],
   "source": [
    "driver.get('https://prts.wiki/w/%E5%B9%B2%E5%91%98%E4%B8%80%E8%A7%88#?rarity=1-6&_d=1')\n",
    "time.sleep(0.2)\n",
    "driver.find_element(By.XPATH, '//*[@id=\"pagination\"]/div[2]/select').click()\n",
    "time.sleep(0.2)\n",
    "driver.find_element(By.XPATH, '//*[@id=\"pagination\"]/div[2]/select/option[2]').click()"
   ]
  },
  {
   "cell_type": "code",
   "execution_count": 7,
   "metadata": {},
   "outputs": [
    {
     "data": {
      "text/plain": [
       "80"
      ]
     },
     "execution_count": 7,
     "metadata": {},
     "output_type": "execute_result"
    }
   ],
   "source": [
    "lst_all6star = driver.find_elements(By.CLASS_NAME, 'half-container')\n",
    "len(lst_all6star) # 80 at 2023.8.28 (纯烬艾雅法拉)"
   ]
  },
  {
   "cell_type": "code",
   "execution_count": null,
   "metadata": {},
   "outputs": [],
   "source": [
    "lst_name = []\n",
    "lst_pic_url = []\n",
    "\n",
    "for _ in lst_all6star:\n",
    "    lst_a_staff = _.find_elements(By.XPATH, \"./*/*\")\n",
    "\n",
    "    name = lst_a_staff[10].text\n",
    "    lst_name.append(name)\n",
    "    print(name)\n",
    "\n",
    "    pic_url = lst_a_staff[7].find_elements(By.XPATH, \"./*\")[0].get_attribute(\"data-src\")\n",
    "    lst_pic_url.append(pic_url)\n",
    "    \n",
    "    with open('picture/' + name + '.png', 'wb') as f:\n",
    "\t    f.write(requests.get(pic_url).content)\n",
    "    time.sleep(1)\n",
    "\n",
    "with open('list/name.txt', 'w') as f:\n",
    "    f.write('\\n'.join(lst_name))\n",
    "with open('list/pic_url.txt', 'w') as f:\n",
    "    f.write('\\n'.join(lst_pic_url))"
   ]
  },
  {
   "cell_type": "code",
   "execution_count": 94,
   "metadata": {},
   "outputs": [],
   "source": [
    "# 从本地读取数据\n",
    "\n",
    "with open('list/name.txt', 'r') as f:\n",
    "    lst_name = f.read().split('\\n')\n",
    "with open('list/pic_url.txt', 'r') as f:\n",
    "    lst_pic_url = f.read().split('\\n')"
   ]
  },
  {
   "cell_type": "code",
   "execution_count": null,
   "metadata": {},
   "outputs": [],
   "source": [
    "dict(zip(lst_name, lst_pic_url))"
   ]
  }
 ],
 "metadata": {
  "kernelspec": {
   "display_name": "base",
   "language": "python",
   "name": "python3"
  },
  "language_info": {
   "codemirror_mode": {
    "name": "ipython",
    "version": 3
   },
   "file_extension": ".py",
   "mimetype": "text/x-python",
   "name": "python",
   "nbconvert_exporter": "python",
   "pygments_lexer": "ipython3",
   "version": "3.10.9"
  },
  "orig_nbformat": 4
 },
 "nbformat": 4,
 "nbformat_minor": 2
}
