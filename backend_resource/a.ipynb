{
 "cells": [
  {
   "cell_type": "code",
   "execution_count": 9,
   "metadata": {},
   "outputs": [],
   "source": [
    "import pandas as pd\n",
    "import time\n",
    "from selenium import webdriver\n",
    "from selenium.webdriver.common.by import By\n",
    "import random"
   ]
  },
  {
   "cell_type": "code",
   "execution_count": 4,
   "metadata": {},
   "outputs": [],
   "source": [
    "# 从PRTS.wiki爬取数据"
   ]
  },
  {
   "cell_type": "code",
   "execution_count": 5,
   "metadata": {},
   "outputs": [],
   "source": [
    "opts = webdriver.EdgeOptions()\n",
    "opts.add_argument('--headless')\n",
    "opts.add_argument('--disable-gpu')\n",
    "driver = webdriver.Edge(options=opts)"
   ]
  },
  {
   "cell_type": "code",
   "execution_count": 6,
   "metadata": {},
   "outputs": [],
   "source": [
    "driver.get('https://prts.wiki/w/%E5%B9%B2%E5%91%98%E4%B8%80%E8%A7%88#?rarity=1-6&_d=1')\n",
    "time.sleep(0.2)\n",
    "driver.find_element(By.XPATH, '//*[@id=\"pagination\"]/div[2]/select').click()\n",
    "time.sleep(0.2)\n",
    "driver.find_element(By.XPATH, '//*[@id=\"pagination\"]/div[2]/select/option[2]').click()"
   ]
  },
  {
   "cell_type": "code",
   "execution_count": 7,
   "metadata": {},
   "outputs": [
    {
     "data": {
      "text/plain": [
       "80"
      ]
     },
     "execution_count": 7,
     "metadata": {},
     "output_type": "execute_result"
    }
   ],
   "source": [
    "lst_all6star = driver.find_elements(By.CLASS_NAME, 'half-container')\n",
    "len(lst_all6star) # 80 at 2023.8.28 (纯烬艾雅法拉)"
   ]
  },
  {
   "cell_type": "code",
   "execution_count": null,
   "metadata": {},
   "outputs": [],
   "source": [
    "lst_name = []\n",
    "lst_pic_url = []\n",
    "\n",
    "for _ in lst_all6star:\n",
    "    lst_a_staff = _.find_elements(By.XPATH, \"./*/*\")\n",
    "\n",
    "    name = lst_a_staff[10].text\n",
    "    lst_name.append(name)\n",
    "    print(name)\n",
    "\n",
    "    pic_url = lst_a_staff[7].find_elements(By.XPATH, \"./*\")[0].get_attribute(\"data-src\")\n",
    "    lst_pic_url.append(pic_url)\n",
    "    \n",
    "    with open('picture/' + name + '.png', 'wb') as f:\n",
    "\t    f.write(requests.get(pic_url).content)\n",
    "    time.sleep(1)\n",
    "\n",
    "with open('list/name.txt', 'w') as f:\n",
    "    f.write('\\n'.join(lst_name))\n",
    "with open('list/pic_url.txt', 'w') as f:\n",
    "    f.write('\\n'.join(lst_pic_url))"
   ]
  },
  {
   "cell_type": "code",
   "execution_count": 1,
   "metadata": {},
   "outputs": [],
   "source": [
    "# 从本地读取数据\n",
    "\n",
    "with open('list/name.txt', 'r') as f:\n",
    "    lst_name = f.read().split('\\n')\n",
    "with open('list/pic_url.txt', 'r') as f:\n",
    "    lst_pic_url = f.read().split('\\n')"
   ]
  },
  {
   "cell_type": "code",
   "execution_count": 2,
   "metadata": {},
   "outputs": [
    {
     "data": {
      "text/plain": [
       "['纯烬艾雅法拉',\n",
       " '琳琅诗怀雅',\n",
       " '提丰',\n",
       " '圣约送葬人',\n",
       " '缪尔赛思',\n",
       " '霍尔海雅',\n",
       " '淬羽赫默',\n",
       " '伊内丝',\n",
       " '麒麟X夜刀',\n",
       " '仇白',\n",
       " '重岳',\n",
       " '林',\n",
       " '焰影苇草',\n",
       " '缄默德克萨斯',\n",
       " '斥罪',\n",
       " '伺夜',\n",
       " '白铁',\n",
       " '玛恩纳',\n",
       " '百炼嘉维尔',\n",
       " '鸿雪',\n",
       " '多萝西',\n",
       " '黑键',\n",
       " '归溟幽灵鲨',\n",
       " '艾丽妮',\n",
       " '流明',\n",
       " '号角',\n",
       " '菲亚梅塔',\n",
       " '澄闪',\n",
       " '令',\n",
       " '老鲤',\n",
       " '灵知',\n",
       " '耀骑士临光',\n",
       " '焰尾',\n",
       " '远牙',\n",
       " '琴柳',\n",
       " '假日威龙陈',\n",
       " '水月',\n",
       " '帕拉斯',\n",
       " '卡涅利安',\n",
       " '浊心斯卡蒂',\n",
       " '凯尔希',\n",
       " '歌蕾蒂娅',\n",
       " '异客',\n",
       " '灰烬',\n",
       " '夕',\n",
       " '嵯峨',\n",
       " '空弦',\n",
       " '山',\n",
       " '迷迭香',\n",
       " '泥岩',\n",
       " '瑕光',\n",
       " '史尔特尔',\n",
       " '森蚺',\n",
       " '棘刺',\n",
       " '铃兰',\n",
       " '早露',\n",
       " 'W',\n",
       " '温蒂',\n",
       " '傀影',\n",
       " '风笛',\n",
       " '刻俄柏',\n",
       " '年',\n",
       " '阿',\n",
       " '煌',\n",
       " '莫斯提马',\n",
       " '麦哲伦',\n",
       " '赫拉格',\n",
       " '黑',\n",
       " '陈',\n",
       " '斯卡蒂',\n",
       " '银灰',\n",
       " '塞雷娅',\n",
       " '星熊',\n",
       " '夜莺',\n",
       " '闪灵',\n",
       " '安洁莉娜',\n",
       " '艾雅法拉',\n",
       " '伊芙利特',\n",
       " '推进之王',\n",
       " '能天使']"
      ]
     },
     "execution_count": 2,
     "metadata": {},
     "output_type": "execute_result"
    }
   ],
   "source": [
    "lst_name"
   ]
  },
  {
   "cell_type": "code",
   "execution_count": 3,
   "metadata": {},
   "outputs": [
    {
     "data": {
      "text/plain": [
       "['https://prts.wiki/images/b/bd/半身像_纯烬艾雅法拉_1.png',\n",
       " 'https://prts.wiki/images/9/99/半身像_琳琅诗怀雅_1.png',\n",
       " 'https://prts.wiki/images/5/51/半身像_提丰_1.png',\n",
       " 'https://prts.wiki/images/7/71/半身像_圣约送葬人_1.png',\n",
       " 'https://prts.wiki/images/4/4a/半身像_缪尔赛思_1.png',\n",
       " 'https://prts.wiki/images/5/5a/半身像_霍尔海雅_1.png',\n",
       " 'https://prts.wiki/images/5/54/半身像_淬羽赫默_1.png',\n",
       " 'https://prts.wiki/images/5/59/半身像_伊内丝_1.png',\n",
       " 'https://prts.wiki/images/6/66/半身像_麒麟X夜刀_1.png',\n",
       " 'https://prts.wiki/images/4/40/半身像_仇白_1.png',\n",
       " 'https://prts.wiki/images/e/e5/半身像_重岳_1.png',\n",
       " 'https://prts.wiki/images/7/75/半身像_林_1.png',\n",
       " 'https://prts.wiki/images/a/ae/半身像_焰影苇草_1.png',\n",
       " 'https://prts.wiki/images/0/0d/半身像_缄默德克萨斯_1.png',\n",
       " 'https://prts.wiki/images/e/e7/半身像_斥罪_1.png',\n",
       " 'https://prts.wiki/images/f/fc/半身像_伺夜_1.png',\n",
       " 'https://prts.wiki/images/e/e5/半身像_白铁_1.png',\n",
       " 'https://prts.wiki/images/b/b1/半身像_玛恩纳_1.png',\n",
       " 'https://prts.wiki/images/e/ed/半身像_百炼嘉维尔_1.png',\n",
       " 'https://prts.wiki/images/4/4d/半身像_鸿雪_1.png',\n",
       " 'https://prts.wiki/images/0/04/半身像_多萝西_1.png',\n",
       " 'https://prts.wiki/images/e/e6/半身像_黑键_1.png',\n",
       " 'https://prts.wiki/images/f/f7/半身像_归溟幽灵鲨_1.png',\n",
       " 'https://prts.wiki/images/b/bd/半身像_艾丽妮_1.png',\n",
       " 'https://prts.wiki/images/9/9f/半身像_流明_1.png',\n",
       " 'https://prts.wiki/images/8/85/半身像_号角_1.png',\n",
       " 'https://prts.wiki/images/f/f8/半身像_菲亚梅塔_1.png',\n",
       " 'https://prts.wiki/images/1/17/半身像_澄闪_1.png',\n",
       " 'https://prts.wiki/images/d/d6/半身像_令_1.png',\n",
       " 'https://prts.wiki/images/e/e8/半身像_老鲤_1.png',\n",
       " 'https://prts.wiki/images/a/a9/半身像_灵知_1.png',\n",
       " 'https://prts.wiki/images/d/db/半身像_耀骑士临光_1.png',\n",
       " 'https://prts.wiki/images/9/92/半身像_焰尾_1.png',\n",
       " 'https://prts.wiki/images/4/4f/半身像_远牙_1.png',\n",
       " 'https://prts.wiki/images/2/28/半身像_琴柳_1.png',\n",
       " 'https://prts.wiki/images/5/51/半身像_假日威龙陈_1.png',\n",
       " 'https://prts.wiki/images/2/22/半身像_水月_1.png',\n",
       " 'https://prts.wiki/images/7/72/半身像_帕拉斯_1.png',\n",
       " 'https://prts.wiki/images/3/36/半身像_卡涅利安_1.png',\n",
       " 'https://prts.wiki/images/7/7f/半身像_浊心斯卡蒂_1.png',\n",
       " 'https://prts.wiki/images/c/c0/半身像_凯尔希_1.png',\n",
       " 'https://prts.wiki/images/3/33/半身像_歌蕾蒂娅_1.png',\n",
       " 'https://prts.wiki/images/d/d3/半身像_异客_1.png',\n",
       " 'https://prts.wiki/images/f/fa/半身像_灰烬_1.png',\n",
       " 'https://prts.wiki/images/f/f2/半身像_夕_1.png',\n",
       " 'https://prts.wiki/images/a/a4/半身像_嵯峨_1.png',\n",
       " 'https://prts.wiki/images/8/86/半身像_空弦_1.png',\n",
       " 'https://prts.wiki/images/7/7b/半身像_山_1.png',\n",
       " 'https://prts.wiki/images/9/9a/半身像_迷迭香_1.png',\n",
       " 'https://prts.wiki/images/0/08/半身像_泥岩_1.png',\n",
       " 'https://prts.wiki/images/a/a6/半身像_瑕光_1.png',\n",
       " 'https://prts.wiki/images/5/58/半身像_史尔特尔_1.png',\n",
       " 'https://prts.wiki/images/4/4a/半身像_森蚺_1.png',\n",
       " 'https://prts.wiki/images/0/08/半身像_棘刺_1.png',\n",
       " 'https://prts.wiki/images/f/fe/半身像_铃兰_1.png',\n",
       " 'https://prts.wiki/images/9/92/半身像_早露_1.png',\n",
       " 'https://prts.wiki/images/4/45/半身像_W_1.png',\n",
       " 'https://prts.wiki/images/5/5f/半身像_温蒂_1.png',\n",
       " 'https://prts.wiki/images/a/ad/半身像_傀影_1.png',\n",
       " 'https://prts.wiki/images/e/ea/半身像_风笛_1.png',\n",
       " 'https://prts.wiki/images/6/69/半身像_刻俄柏_1.png',\n",
       " 'https://prts.wiki/images/4/4d/半身像_年_1.png',\n",
       " 'https://prts.wiki/images/7/72/半身像_阿_1.png',\n",
       " 'https://prts.wiki/images/1/1c/半身像_煌_1.png',\n",
       " 'https://prts.wiki/images/f/fc/半身像_莫斯提马_1.png',\n",
       " 'https://prts.wiki/images/c/c7/半身像_麦哲伦_1.png',\n",
       " 'https://prts.wiki/images/8/82/半身像_赫拉格_1.png',\n",
       " 'https://prts.wiki/images/2/23/半身像_黑_1.png',\n",
       " 'https://prts.wiki/images/e/e1/半身像_陈_1.png',\n",
       " 'https://prts.wiki/images/a/a5/半身像_斯卡蒂_1.png',\n",
       " 'https://prts.wiki/images/9/90/半身像_银灰_1.png',\n",
       " 'https://prts.wiki/images/4/44/半身像_塞雷娅_1.png',\n",
       " 'https://prts.wiki/images/2/22/半身像_星熊_1.png',\n",
       " 'https://prts.wiki/images/e/e9/半身像_夜莺_1.png',\n",
       " 'https://prts.wiki/images/d/d6/半身像_闪灵_1.png',\n",
       " 'https://prts.wiki/images/3/30/半身像_安洁莉娜_1.png',\n",
       " 'https://prts.wiki/images/3/36/半身像_艾雅法拉_1.png',\n",
       " 'https://prts.wiki/images/2/23/半身像_伊芙利特_1.png',\n",
       " 'https://prts.wiki/images/9/98/半身像_推进之王_1.png',\n",
       " 'https://prts.wiki/images/2/2e/半身像_能天使_1.png']"
      ]
     },
     "execution_count": 3,
     "metadata": {},
     "output_type": "execute_result"
    }
   ],
   "source": [
    "lst_pic_url"
   ]
  },
  {
   "cell_type": "code",
   "execution_count": null,
   "metadata": {},
   "outputs": [],
   "source": [
    "dict(zip(lst_name, lst_pic_url))"
   ]
  }
 ],
 "metadata": {
  "kernelspec": {
   "display_name": "base",
   "language": "python",
   "name": "python3"
  },
  "language_info": {
   "codemirror_mode": {
    "name": "ipython",
    "version": 3
   },
   "file_extension": ".py",
   "mimetype": "text/x-python",
   "name": "python",
   "nbconvert_exporter": "python",
   "pygments_lexer": "ipython3",
   "version": "3.10.9"
  },
  "orig_nbformat": 4
 },
 "nbformat": 4,
 "nbformat_minor": 2
}
